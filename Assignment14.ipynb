{
  "nbformat": 4,
  "nbformat_minor": 0,
  "metadata": {
    "colab": {
      "provenance": []
    },
    "kernelspec": {
      "name": "python3",
      "display_name": "Python 3"
    },
    "language_info": {
      "name": "python"
    }
  },
  "cells": [
    {
      "cell_type": "markdown",
      "source": [
        "Q1:What does RGBA stand for?\n",
        "\n",
        "Ans: **RGBA(Red-Green-Blue-Alpha)**\n",
        "\n",
        "The RGB color model is extended in this specification to include “alpha” to allow specification of the opacity of a color.\n",
        "\n"
      ],
      "metadata": {
        "id": "EofAV5YRCbzq"
      }
    },
    {
      "cell_type": "markdown",
      "source": [
        "Q2: From the Pillow module, how do you get the RGBA value of any images?\n",
        "\n",
        "Ans:\n",
        "\n",
        "\n",
        "\n",
        "1.   import the Image module from the Pillow library. from PIL import Image.\n",
        "\n",
        "2.   Open any image and get the RAGBAG values. img = Image.open('image.png') rgba = img.convert(“RGBA”) ...\n",
        "3.   Change the color. Data will be an Imaging Core object containing thousands of tuples of RGBA values. ...\n",
        "\n",
        "\n",
        "4.   Store the changed image.\n",
        "\n"
      ],
      "metadata": {
        "id": "3h0Dmc7yC4um"
      }
    },
    {
      "cell_type": "markdown",
      "source": [
        "Q3: What is a box tuple, and how does it work?\n",
        "\n",
        "Ans: Python Tuple is a collection of objects separated by commas.\n",
        "\n",
        "The box. tuple submodule provides read-only access for the tuple userdata type. It allows, for a single tuple: selective retrieval of the field contents, retrieval of information about size, iteration over all the fields, and conversion to a Lua table."
      ],
      "metadata": {
        "id": "BFBw6EnVDidz"
      }
    },
    {
      "cell_type": "markdown",
      "source": [
        "Q4: Use your image and load in notebook then, How can you find out the width and height of an\n",
        "Image object?\n",
        "\n",
        "Ans:\n",
        "\n",
        "There are four libraries that are usually used for loading images.\n",
        "\n",
        "Matplotlib — plt.imread()\n",
        "\n",
        "OpenCV — cv2.imread()\n",
        "\n",
        "Pillow — Image.open()\n",
        "\n",
        "scikit-image — io.imread()\n",
        "\n",
        "In order to find the height and width of an image, there are two approaches. The first approach is by using the PIL(Pillow) library and the second approach is by using the Open-CV library.\n",
        "\n",
        "**Approach 1:**\n",
        "\n",
        "PIL is the Python Imaging Library is an important module which is used for image processing. It supports many formats of images such as “jpeg”, “png”, “ppm”, “tiff”, “bmp”, “gif”.  It provides many image editing capabilities. The Image module provides a class with the same name which is used to represent a PIL image. \n",
        "\n",
        "PIL.Image.open() is used to open the image and then .width and .height property of Image are used to get the height and width of the image. The same results can be obtained by using .size property.\n",
        "\n",
        "**To use pillow library run the following command:**\n",
        "\n",
        "pip install pillow\n",
        "\n",
        "# import required module\n",
        "from PIL import Image\n",
        "  \n",
        "# get image\n",
        "filepath = \"geeksforgeeks.png\"\n",
        "img = Image.open(filepath)\n",
        "  \n",
        "# get width and height\n",
        "width = img.width\n",
        "height = img.height\n",
        "  \n",
        "# display width and height\n",
        "print(\"The height of the image is: \", height)\n",
        "print(\"The width of the image is: \", width)"
      ],
      "metadata": {
        "id": "eoZ37B8_EktI"
      }
    },
    {
      "cell_type": "code",
      "source": [
        "#Example:\n",
        "\n",
        "# import required module\n",
        "from PIL import Image\n",
        "  \n",
        "# get image\n",
        "filepath = \"/content/So.jpeg\"\n",
        "img = Image.open(filepath)\n",
        "  \n",
        "# get width and height\n",
        "width = img.width\n",
        "height = img.height\n",
        "  \n",
        "# display width and height\n",
        "print(\"The height of the image is: \", height)\n",
        "print(\"The width of the image is: \", width)"
      ],
      "metadata": {
        "colab": {
          "base_uri": "https://localhost:8080/"
        },
        "id": "cMMfBCm9CRzY",
        "outputId": "b3f018a9-8f7c-4d1e-9a98-5962377a8d9b"
      },
      "execution_count": 2,
      "outputs": [
        {
          "output_type": "stream",
          "name": "stdout",
          "text": [
            "The height of the image is:  572\n",
            "The width of the image is:  1270\n"
          ]
        }
      ]
    },
    {
      "cell_type": "markdown",
      "source": [
        "**Approach 2:**\n",
        "\n",
        "OpenCV in python is a library which is used for computer vision, image processing and much more.  The imread(filepath) function is used to load an image from the file path specified. The .shape stores a tuple of height, width and no of channels for each pixel. The .shape[:2] will get the height and width of the image.\n",
        "\n",
        "**To install OpenCV run the following command:**\n",
        "\n",
        "pip install opencv-python\n",
        "\n",
        "# import required module\n",
        "import cv2\n",
        "  \n",
        "# get image\n",
        "filepath = \"geeksforgeeks.jpg\"\n",
        "image = cv2.imread(filepath)\n",
        "#print(image.shape)\n",
        "  \n",
        "# get width and height\n",
        "height, width = image.shape[:2]\n",
        "  \n",
        "# display width and height\n",
        "print(\"The height of the image is: \", height)\n",
        "print(\"The width of the image is: \", width)"
      ],
      "metadata": {
        "id": "Uvz39IpiHVyQ"
      }
    },
    {
      "cell_type": "markdown",
      "source": [
        "Q5: What method would you call to get Image object for a 100×100 image, excluding the lower-left\n",
        "quarter of it?\n",
        "\n",
        "Ans: "
      ],
      "metadata": {
        "id": "WC9QWuXOH2H9"
      }
    },
    {
      "cell_type": "markdown",
      "source": [
        "Q6: After making changes to an Image object, how could you save it as an image file?\n",
        "\n",
        "Ans: Simple ways to load and save images using PIL, OpenCV, and Matplotib\n",
        "\n",
        "**Prerequisites:**\n",
        "\n",
        "Install PIL, OpenCV, and matplotlib libraries.\n",
        "\n",
        "**Loading image using PIL in a new window**\n",
        "\n",
        "Show() loads the image in a new window\n",
        "\n",
        "**Example:** \n",
        "\n",
        "from PIL import Image\n",
        "\n",
        "img_PIL = Image.open(r'\\dogs-v-cats\\dog.1.jpg')\n",
        "\n",
        "img_PIL.show()\n",
        "\n",
        "**Loading image inline using PIL**\n",
        "\n",
        "display() loads the image inline\n",
        "\n",
        "from IPython.display import display\n",
        "\n",
        "from PIL import Image\n",
        "\n",
        "img_PIL = Image.open(r'\\dogs-v-cats\\dog.1.jpg')\n",
        "\n",
        "display(img_PIL)\n",
        "\n",
        "**Saving image using PIL**\n",
        "\n",
        "You can save the JPEG image in a different format like PNG using save() of the PIL\n",
        "\n",
        "Ex: img_PIL.save(r'\\dogs-v-cats\\dog.1.png')\n",
        "\n",
        "**Loading image using OpenCV**\n",
        "\n",
        "import cv2\n",
        "\n",
        "image_cv2= cv2.imread(r'\\dogs-v-cats\\dog.1.png')\n",
        "\n",
        "cv2.imshow(\"Dog Image using OpenCV\", image_cv2)\n",
        "\n",
        "cv2.waitKey(0)\n",
        "\n",
        "cv2.destroyAllWindows()\n",
        "\n",
        "**imread() reads the image.**\n",
        "\n",
        "The first parameter is the path that contains the image.\n",
        "\n",
        "**imshow() display the image in a window**\n",
        "\n",
        "The first parameter is the window name, and the second parameter is the image.\n",
        "\n",
        "**waitKey() is a keyboard binding function**.\n",
        "\n",
        "If you specify a numeric value other than 0, then it will wait for specified milliseconds for any keyboard event. \n",
        "\n",
        "**destroyAllWindows() will destroy all windows created.**\n",
        "\n",
        "To destroy specific windows, you can use destroyWindow() to which you will pass the window name\n",
        "\n",
        "Ex:\n",
        "\n",
        "import cv2\n",
        "image_cv2= cv2.imread(r'\\dogs-v-cats\\dog.1.png')\n",
        "\n",
        "cv2.imshow(\"Dog Image using OpenCV\", image_cv2)\n",
        "\n",
        "cv2.waitKey(6000)\n",
        "\n",
        "cv2.destroyWindow(\"Dog Image using OpenCV\")\n",
        "\n",
        "**Saving the image using OpenCV**\n",
        "\n",
        "result=cv2.imwrite(r'\\dogs-v-cats\\dog.100.png’, image_cv2)\n",
        "\n",
        "if result==True:\n",
        "\n",
        "  print(“File saved successfully”)\n",
        "\n",
        "else:\n",
        "\n",
        "  print(“Error in saving file”)\n",
        "\n",
        "imwrite() saves the image file to the specified path. The first parameter is the path where you want to save the file, and the second parameter is the image to be saved.\n",
        "\n",
        "**Load the image using matplotlib**\n",
        "\n",
        "import matplotlib.pyplot as plt\n",
        "\n",
        "import matplotlib.image as mpimg\n",
        "\n",
        "%matplotlib inline\n",
        "\n",
        "image_mp= mpimg.imread(r'\\dogs-v-cats\\dog.1.jpg')\n",
        "\n",
        "imgplot=plt.imshow(image_mp)\n",
        "\n",
        "plt.plot()\n",
        "\n",
        "imread() of matplotlib reads an image file from the specified path into an array. The second parameter is optional and specifies the format of the file like ‘JPEG’ or “PNG’. Default value is ‘PNG.’\n",
        "\n",
        "imshow() of matplotlib display the data array as an image\n",
        "\n",
        "you can also use plt.show() to display the image\n",
        "\n",
        "Ex:\n",
        "\n",
        "import matplotlib.pyplot as plt\n",
        "\n",
        "import matplotlib.image as mpimg\n",
        "\n",
        "%matplotlib inline\n",
        "\n",
        "image_mp= mpimg.imread(r'\\dogs-v-cats\\dog.1.jpg’, “JPG”)\n",
        "\n",
        "imgplot=plt.imshow(image_mp)\n",
        "\n",
        "plt.show()\n",
        "\n",
        "**Saving the image file using matplotlib**\n",
        "\n",
        "plt.savefig(r'\\dogs-v-cats\\dog.2.png')\n",
        "\n",
        "**Conclusion:**\n",
        "\n",
        "Python has several libraries like OpenCV, PIL, and matplotlib that can be used to load and save the image. In the next article, you will learn different image processing techniques like rotating the images, de-noising the images, cropping the images, converting the RGB image to the grayscale image, increasing the sharpness of the image.\n"
      ],
      "metadata": {
        "id": "NSTm6xe8IlGS"
      }
    },
    {
      "cell_type": "markdown",
      "source": [
        "Q7: What module contains Pillow’s shape-drawing code?\n",
        "\n",
        "Ans: Pillow provides a drawing module called ImageDraw that you can use to create simple 2D graphics on your Image objects. According to Pillow's documentation, \"you can use this module to create new images, annotate or retouch existing images, and to generate graphics on the fly for web use.\"\n",
        "\n",
        "If you need more advanced drawing capabilities than what is included in Pillow, you can get a separate package called aggdraw.\n",
        "\n",
        "\n",
        "You will focus on what comes with Pillow in this article. Specifically, you will learn about the following:\n",
        "\n",
        "\n",
        "Common Parameters\n",
        "\n",
        "Drawing Lines\n",
        "\n",
        "Drawing Arcs\n",
        "\n",
        "Drawing Chords\n",
        "\n",
        "Drawing Ellipses\n",
        "\n",
        "Drawing Pie Slices\n",
        "\n",
        "Drawing Polygons\n",
        "\n",
        "Drawing Rectangles\n"
      ],
      "metadata": {
        "id": "W9ufO2WcLiSj"
      }
    },
    {
      "cell_type": "markdown",
      "source": [
        "Q8: Image objects do not have drawing methods. What kind of object does? How do you get this kind\n",
        "of object?\n",
        "\n",
        "Ans: **Manipulating Images**\n",
        "\n",
        "If you have a digital camera or even if you just upload photos from your phone to Facebook, you probably cross paths with digital image files all the time. You may know how to use basic graphics software, such as Microsoft Paint or Paintbrush, or even more advanced applications such as Adobe Photoshop. But if you need to edit a massive number of images, editing them by hand can be a lengthy, boring job.\n",
        "\n",
        "Enter Python. Pillow is a third-party Python module for interacting with image files. The module has several functions that make it easy to crop, resize, and edit the content of an image. With the power to manipulate images the same way you would with software such as Microsoft Paint or Adobe Photoshop, Python can automatically edit hundreds or thousands of images with ease."
      ],
      "metadata": {
        "id": "E5FJrkXgNRI7"
      }
    },
    {
      "cell_type": "code",
      "source": [],
      "metadata": {
        "id": "Q7_sOR6zCRqB"
      },
      "execution_count": null,
      "outputs": []
    },
    {
      "cell_type": "code",
      "execution_count": null,
      "metadata": {
        "id": "3mhHdGQQCQOd"
      },
      "outputs": [],
      "source": []
    }
  ]
}